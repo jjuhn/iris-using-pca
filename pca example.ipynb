{
 "cells": [
  {
   "cell_type": "code",
   "execution_count": 1,
   "metadata": {
    "collapsed": true
   },
   "outputs": [],
   "source": [
    "import pandas as pd\n",
    "import pylab as pl\n",
    "from sklearn import datasets\n",
    "from sklearn.decomposition import PCA\n",
    "import numpy as np\n",
    "from sklearn import preprocessing\n",
    "import matplotlib.pyplot as plt"
   ]
  },
  {
   "cell_type": "code",
   "execution_count": 2,
   "metadata": {},
   "outputs": [],
   "source": [
    "# load dataset\n",
    "iris = datasets.load_iris()\n",
    "df = pd.DataFrame(iris.data, columns=iris.feature_names)"
   ]
  },
  {
   "cell_type": "code",
   "execution_count": 3,
   "metadata": {},
   "outputs": [],
   "source": [
    "# normalize data\n",
    "df_norm = (df - df.mean()) / df.std()"
   ]
  },
  {
   "cell_type": "code",
   "execution_count": 4,
   "metadata": {},
   "outputs": [
    {
     "name": "stdout",
     "output_type": "stream",
     "text": [
      "[ 2.91081808  0.92122093  0.14735328  0.02060771]\n[ 0.72770452  0.23030523  0.03683832  0.00515193]\n[[ 0.52237162 -0.26335492  0.58125401  0.56561105]\n [ 0.37231836  0.92555649  0.02109478  0.06541577]\n [-0.72101681  0.24203288  0.14089226  0.6338014 ]\n [-0.26199559  0.12413481  0.80115427 -0.52354627]]\n"
     ]
    }
   ],
   "source": [
    "# PCA\n",
    "pca = PCA(n_components=4)\n",
    "\n",
    "pca.fit_transform(df_norm.values)\n",
    "print (pca.explained_variance_)\n",
    "print (pca.explained_variance_ratio_)\n",
    "print (pca.components_)"
   ]
  },
  {
   "cell_type": "code",
   "execution_count": 5,
   "metadata": {},
   "outputs": [
    {
     "name": "stdout",
     "output_type": "stream",
     "text": [
      "[ 72.77  95.8   99.48 100.  ]\n"
     ]
    },
    {
     "data": {
      "image/png": "[encoded data removed]",
      "text/plain": [
       "<matplotlib.figure.Figure at 0x1116e9438>"
      ]
     },
     "metadata": {},
     "output_type": "display_data"
    }
   ],
   "source": [
    "var1 = np.cumsum(np.round(pca.explained_variance_ratio_, decimals=4)*100)\n",
    "print(var1)\n",
    "\n",
    "plt.plot(var1)\n",
    "plt.show()"
   ]
  },
  {
   "cell_type": "code",
   "execution_count": 6,
   "metadata": {},
   "outputs": [],
   "source": [
    "# Looking at the above plot I'm taking 2 variable. \n",
    "# From the research, I know that I will choose # of variables based on cumulative variance ratio\n",
    "# that are more than 90 to 95%.\n",
    "\n",
    "pca2 = PCA(n_components=2)\n",
    "\n",
    "Y_sklearn = pca2.fit_transform(df_norm.values)\n",
    "print (pca2.explained_variance_)\n",
    "print (pca2.explained_variance_ratio_)\n",
    "print (pca2.components_)"
   ]
  },
  {
   "cell_type": "code",
   "execution_count": 7,
   "metadata": {},
   "outputs": [
    {
     "name": "stdout",
     "output_type": "stream",
     "text": [
      "      sepal length (cm)  sepal width (cm)  petal length (cm)  petal width (cm)\nPC-1           0.522372         -0.263355           0.581254          0.565611\nPC-2           0.372318          0.925556           0.021095          0.065416\n"
     ]
    }
   ],
   "source": [
    "data_scaled = pd.DataFrame(preprocessing.scale(df),columns = df.columns) \n",
    "\n",
    "print (pd.DataFrame(pca2.components_,columns=data_scaled.columns,index = ['PC-1','PC-2']))"
   ]
  },
  {
   "cell_type": "code",
   "execution_count": 8,
   "metadata": {},
   "outputs": [
    {
     "data": {
      "image/png": "[encoded data removed]",
      "text/plain": [
       "<matplotlib.figure.Figure at 0x1117ceb38>"
      ]
     },
     "metadata": {},
     "output_type": "display_data"
    },
    {
     "data": {
      "text/plain": [
       "<matplotlib.figure.Figure at 0x1117ecbe0>"
      ]
     },
     "execution_count": 0,
     "metadata": {},
     "output_type": "execute_result"
    }
   ],
   "source": [
    "y = iris.target\n",
    "target_names = iris.target_names\n",
    "\n",
    "\n",
    "colors = ['navy', 'turquoise', 'darkorange']\n",
    "lw = 1 \n",
    "\n",
    "for color, i, target_name in zip(colors, [0, 1, 2], target_names):\n",
    "    plt.scatter(Y_sklearn[y == i, 0], Y_sklearn[y == i, 1], color=color, alpha=.8, lw=lw,\n",
    "                label=target_name)\n",
    "plt.legend(loc='best', shadow=False, scatterpoints=1)\n",
    "plt.title('PCA of IRIS dataset')\n",
    "\n",
    "plt.figure()\n",
    "plt.show()"
   ]
  }
 ],
 "metadata": {
  "kernelspec": {
   "display_name": "Python 2",
   "language": "python",
   "name": "python2"
  },
  "language_info": {
   "codemirror_mode": {
    "name": "ipython",
    "version": 2.0
   },
   "file_extension": ".py",
   "mimetype": "text/x-python",
   "name": "python",
   "nbconvert_exporter": "python",
   "pygments_lexer": "ipython2",
   "version": "2.7.6"
  }
 },
 "nbformat": 4,
 "nbformat_minor": 0
}